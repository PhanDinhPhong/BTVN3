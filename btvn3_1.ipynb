{
  "nbformat": 4,
  "nbformat_minor": 0,
  "metadata": {
    "colab": {
      "name": "btvn3_1",
      "provenance": [],
      "collapsed_sections": [],
      "authorship_tag": "ABX9TyO4vXex/VWPrR3YC38vSDmI",
      "include_colab_link": true
    },
    "kernelspec": {
      "name": "python3",
      "display_name": "Python 3"
    },
    "language_info": {
      "name": "python"
    },
    "accelerator": "GPU"
  },
  "cells": [
    {
      "cell_type": "markdown",
      "metadata": {
        "id": "view-in-github",
        "colab_type": "text"
      },
      "source": [
        "<a href=\"https://colab.research.google.com/github/PhanDinhPhong/BTVN3/blob/main/btvn3_1.ipynb\" target=\"_parent\"><img src=\"https://colab.research.google.com/assets/colab-badge.svg\" alt=\"Open In Colab\"/></a>"
      ]
    },
    {
      "cell_type": "code",
      "execution_count": null,
      "metadata": {
        "colab": {
          "base_uri": "https://localhost:8080/"
        },
        "id": "uHbVznJUq8Yi",
        "outputId": "21731ef8-85a7-4591-894b-1c14dc9c61e0"
      },
      "outputs": [
        {
          "output_type": "stream",
          "name": "stdout",
          "text": [
            "Downloading data from https://www.cs.toronto.edu/~kriz/cifar-100-python.tar.gz\n",
            "169009152/169001437 [==============================] - 13s 0us/step\n",
            "169017344/169001437 [==============================] - 13s 0us/step\n"
          ]
        }
      ],
      "source": [
        "import pandas as pd\n",
        "import numpy as np\n",
        "from tensorflow.keras import datasets,layers, models\n",
        "from tensorflow.keras.optimizers import SGD, Adam, RMSprop\n",
        "import matplotlib.pyplot as plt\n",
        "from keras.models import Sequential\n",
        "from keras.utils import np_utils\n",
        "from keras.layers import Dense, Activation,Dropout,Conv2D,MaxPooling2D,Flatten\n",
        "from keras.callbacks import EarlyStopping\n",
        "\n",
        "(x_train_images,y_train_labels),(x_test_images,y_test_labels) = datasets.cifar100.load_data()\n",
        "x_train_images =x_train_images.astype('float32')\n",
        "x_test_images = x_test_images.astype('float32')\n",
        "\n",
        "x_train_images/= 255\n",
        "x_test_images/= 255\n",
        "y_train_labels = np_utils.to_categorical(y_train_labels,100)\n",
        "y_test_labels = np_utils.to_categorical(y_test_labels,100)"
      ]
    },
    {
      "cell_type": "code",
      "source": [
        "model = Sequential()\n",
        "model.add(Conv2D(input_shape =(32, 32, 3),kernel_initializer ='he_uniform',kernel_size =(2,2),padding ='same',strides =(2,2),filters=32))\n",
        "model.add(MaxPooling2D(pool_size= (2,2),strides =(1,1),padding ='same'))\n",
        "model.add(Conv2D(kernel_size =(2,2),padding ='same',strides =(2,2),filters =64))\n",
        "model.add(MaxPooling2D(pool_size = (2,2),strides =(1,1),padding ='same'))\n",
        "model.add(Flatten())\n",
        "model.add(Dense(512,activation='relu'))\n",
        "model.add(Dense(256, activation='relu'))\n",
        "model.add(Dense(256, activation='relu'))\n",
        "model.add(Dense(128, activation='relu'))\n",
        "model.add(Dense(100, activation='softmax'))\n",
        "model.summary()\n"
      ],
      "metadata": {
        "colab": {
          "base_uri": "https://localhost:8080/"
        },
        "id": "VDHJyWglvHD0",
        "outputId": "aab46167-b94d-4733-f6b9-ab7e1ab0bf77"
      },
      "execution_count": null,
      "outputs": [
        {
          "output_type": "stream",
          "name": "stdout",
          "text": [
            "Model: \"sequential\"\n",
            "_________________________________________________________________\n",
            " Layer (type)                Output Shape              Param #   \n",
            "=================================================================\n",
            " conv2d (Conv2D)             (None, 16, 16, 32)        416       \n",
            "                                                                 \n",
            " max_pooling2d (MaxPooling2D  (None, 16, 16, 32)       0         \n",
            " )                                                               \n",
            "                                                                 \n",
            " conv2d_1 (Conv2D)           (None, 8, 8, 64)          8256      \n",
            "                                                                 \n",
            " max_pooling2d_1 (MaxPooling  (None, 8, 8, 64)         0         \n",
            " 2D)                                                             \n",
            "                                                                 \n",
            " flatten (Flatten)           (None, 4096)              0         \n",
            "                                                                 \n",
            " dense (Dense)               (None, 512)               2097664   \n",
            "                                                                 \n",
            " dense_1 (Dense)             (None, 256)               131328    \n",
            "                                                                 \n",
            " dense_2 (Dense)             (None, 256)               65792     \n",
            "                                                                 \n",
            " dense_3 (Dense)             (None, 128)               32896     \n",
            "                                                                 \n",
            " dense_4 (Dense)             (None, 100)               12900     \n",
            "                                                                 \n",
            "=================================================================\n",
            "Total params: 2,349,252\n",
            "Trainable params: 2,349,252\n",
            "Non-trainable params: 0\n",
            "_________________________________________________________________\n"
          ]
        }
      ]
    },
    {
      "cell_type": "code",
      "source": [
        "from tensorflow import keras\n",
        "model.compile(optimizer ='Adam', loss ='categorical_crossentropy', metrics =['accuracy'])\n",
        "history = model.fit(x_train_images,y_train_labels,batch_size =64,epochs =50,verbose= 1,validation_data=(x_test_images,y_test_labels),callbacks=[EarlyStopping(monitor='val_loss',patience=10)])"
      ],
      "metadata": {
        "colab": {
          "base_uri": "https://localhost:8080/"
        },
        "id": "W79Lz4RJvteN",
        "outputId": "7c22253c-21b7-4919-9792-24e9bd685384"
      },
      "execution_count": null,
      "outputs": [
        {
          "output_type": "stream",
          "name": "stdout",
          "text": [
            "Epoch 1/50\n",
            "782/782 [==============================] - 5s 6ms/step - loss: 0.4659 - accuracy: 0.8552 - val_loss: 5.1323 - val_accuracy: 0.3567\n",
            "Epoch 2/50\n",
            "782/782 [==============================] - 4s 5ms/step - loss: 0.3678 - accuracy: 0.8850 - val_loss: 5.1535 - val_accuracy: 0.3496\n",
            "Epoch 3/50\n",
            "782/782 [==============================] - 4s 5ms/step - loss: 0.3578 - accuracy: 0.8876 - val_loss: 5.5934 - val_accuracy: 0.3487\n",
            "Epoch 4/50\n",
            "782/782 [==============================] - 4s 5ms/step - loss: 0.3366 - accuracy: 0.8942 - val_loss: 5.6745 - val_accuracy: 0.3483\n",
            "Epoch 5/50\n",
            "782/782 [==============================] - 4s 5ms/step - loss: 0.3234 - accuracy: 0.9014 - val_loss: 5.7358 - val_accuracy: 0.3516\n",
            "Epoch 6/50\n",
            "782/782 [==============================] - 4s 5ms/step - loss: 0.3126 - accuracy: 0.9031 - val_loss: 5.8540 - val_accuracy: 0.3437\n",
            "Epoch 7/50\n",
            "782/782 [==============================] - 4s 5ms/step - loss: 0.2884 - accuracy: 0.9103 - val_loss: 5.9659 - val_accuracy: 0.3497\n",
            "Epoch 8/50\n",
            "782/782 [==============================] - 4s 5ms/step - loss: 0.3066 - accuracy: 0.9063 - val_loss: 6.0260 - val_accuracy: 0.3498\n",
            "Epoch 9/50\n",
            "782/782 [==============================] - 4s 5ms/step - loss: 0.2772 - accuracy: 0.9156 - val_loss: 6.1013 - val_accuracy: 0.3436\n",
            "Epoch 10/50\n",
            "782/782 [==============================] - 4s 5ms/step - loss: 0.2718 - accuracy: 0.9162 - val_loss: 6.7154 - val_accuracy: 0.3449\n",
            "Epoch 11/50\n",
            "782/782 [==============================] - 4s 5ms/step - loss: 0.2676 - accuracy: 0.9188 - val_loss: 6.6243 - val_accuracy: 0.3416\n"
          ]
        }
      ]
    },
    {
      "cell_type": "code",
      "source": [
        "plt.plot(history.history['accuracy'])\n",
        "plt.xlabel('epoch')\n",
        "plt.legend(['accuracy'])\n",
        "plt.show()\n",
        "score = model.evaluate(x_test_images, y_test_labels, verbose=0)\n",
        "print('Test error: ',score[0])\n",
        "print('Test accuracy: ',score[1])"
      ],
      "metadata": {
        "colab": {
          "base_uri": "https://localhost:8080/",
          "height": 316
        },
        "id": "X2yti5xVySQ6",
        "outputId": "c06bd636-9bc8-4ef1-8909-0ce05102fd1a"
      },
      "execution_count": null,
      "outputs": [
        {
          "output_type": "display_data",
          "data": {
            "text/plain": [
              "<Figure size 432x288 with 1 Axes>"
            ],
            "image/png": "[encoded data removed]"
          },
          "metadata": {
            "needs_background": "light"
          }
        },
        {
          "output_type": "stream",
          "name": "stdout",
          "text": [
            "Test error:  6.6243181228637695\n",
            "Test accuracy:  0.3416000008583069\n"
          ]
        }
      ]
    },
    {
      "cell_type": "code",
      "source": [
        "x_pre = x_test_images\n",
        "y_ktra = y_test_labels\n",
        "\n",
        "\n",
        "Label = ['apple', 'aquarium_fish', 'baby', 'bear', 'beaver', 'bed', 'bee', 'beetle', 'bicycle', 'bottle', 'bowl', 'boy', 'bridge', 'bus', 'butterfly', 'camel', 'can', 'castle', 'caterpillar', 'cattle', 'chair', 'chimpanzee', 'clock', 'cloud', \n",
        "         'cockroach', 'couch', 'crab', 'crocodile', 'cup', 'dinosaur', 'dolphin', 'elephant', 'flatfish', 'forest', 'fox', 'girl', 'hamster',\n",
        "'house', 'kangaroo', 'keyboard', 'lamp', 'lawn_mower', 'leopard', 'lion', 'lizard', 'lobster', 'man', 'maple_tree', \n",
        "'motorcycle', 'mountain', 'mouse', 'mushroom', 'oak_tree', 'orange', 'orchid', 'otter', 'palm_tree', 'pear', 'pickup_truck', 'pine_tree', 'plain', 'plate', 'poppy', 'porcupine', 'possum', 'rabbit', 'raccoon', 'ray', 'road', 'rocket', 'rose', 'sea', 'seal', 'shark', 'shrew', 'skunk', 'skyscraper', 'snail', 'snake', 'spider', 'squirrel', 'streetcar', 'sunflower', 'sweet_pepper', 'table', 'tank', 'telephone', 'television', 'tiger', 'tractor', 'train', 'trout', 'tulip', 'turtle', 'wardrobe', \n",
        "'whale', 'willow_tree', 'wolf', 'woman', 'worm']\n",
        "test = 2001\n",
        "plt.title(\"Dự đoán là: \" +str(Label[np.argmax(model.predict(x_pre[test].reshape(1, 32, 32, 3)))]))\n",
        "y_ktra[test]\n",
        "plt.imshow(x_pre[test], cmap=plt.get_cmap('gray'))"
      ],
      "metadata": {
        "colab": {
          "base_uri": "https://localhost:8080/",
          "height": 299
        },
        "id": "rCFSc5C1zYAE",
        "outputId": "a293360e-c65b-4132-a7e8-d993ef1a0252"
      },
      "execution_count": null,
      "outputs": [
        {
          "output_type": "execute_result",
          "data": {
            "text/plain": [
              "<matplotlib.image.AxesImage at 0x7f7060cd5b50>"
            ]
          },
          "metadata": {},
          "execution_count": 26
        },
        {
          "output_type": "display_data",
          "data": {
            "text/plain": [
              "<Figure size 432x288 with 1 Axes>"
            ],
            "image/png": "[encoded data removed]"
          },
          "metadata": {
            "needs_background": "light"
          }
        }
      ]
    }
  ]
}