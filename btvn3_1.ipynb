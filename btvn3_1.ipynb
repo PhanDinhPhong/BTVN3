{
  "nbformat": 4,
  "nbformat_minor": 0,
  "metadata": {
    "colab": {
      "name": "btvn3_1",
      "provenance": [],
      "collapsed_sections": [],
      "authorship_tag": "ABX9TyOb/TDGMhki3UFBxHKWxSzt",
      "include_colab_link": true
    },
    "kernelspec": {
      "name": "python3",
      "display_name": "Python 3"
    },
    "language_info": {
      "name": "python"
    },
    "accelerator": "GPU"
  },
  "cells": [
    {
      "cell_type": "markdown",
      "metadata": {
        "id": "view-in-github",
        "colab_type": "text"
      },
      "source": [
        "<a href=\"https://colab.research.google.com/github/PhanDinhPhong/BTVN3/blob/main/btvn3_1.ipynb\" target=\"_parent\"><img src=\"https://colab.research.google.com/assets/colab-badge.svg\" alt=\"Open In Colab\"/></a>"
      ]
    },
    {
      "cell_type": "code",
      "execution_count": 2,
      "metadata": {
        "colab": {
          "base_uri": "https://localhost:8080/"
        },
        "id": "uHbVznJUq8Yi",
        "outputId": "e32101cd-93cc-4ed5-9c1f-598bb67efe7d"
      },
      "outputs": [
        {
          "output_type": "stream",
          "name": "stdout",
          "text": [
            "Downloading data from https://www.cs.toronto.edu/~kriz/cifar-100-python.tar.gz\n",
            "169009152/169001437 [==============================] - 4s 0us/step\n",
            "169017344/169001437 [==============================] - 4s 0us/step\n"
          ]
        }
      ],
      "source": [
        "import pandas as pd\n",
        "import numpy as np\n",
        "from tensorflow.keras import datasets,layers, models\n",
        "from tensorflow.keras.optimizers import SGD, Adam, RMSprop\n",
        "import matplotlib.pyplot as plt\n",
        "from keras.models import Sequential\n",
        "from keras.utils import np_utils\n",
        "from keras.layers import Dense, Activation,Dropout,Conv2D,MaxPooling2D,Flatten\n",
        "from keras.callbacks import EarlyStopping\n",
        "\n",
        "(x_train_images,y_train_labels),(x_test_images,y_test_labels) = datasets.cifar100.load_data()\n",
        "x_train_images =x_train_images.astype('float32')\n",
        "x_test_images = x_test_images.astype('float32')\n",
        "\n",
        "x_train_images/= 255\n",
        "x_test_images/= 255\n",
        "y_train_labels = np_utils.to_categorical(y_train_labels,100)\n",
        "y_test_labels = np_utils.to_categorical(y_test_labels,100)"
      ]
    },
    {
      "cell_type": "code",
      "source": [
        "model = Sequential()\n",
        "model.add(Conv2D(input_shape =(32, 32, 3),kernel_initializer ='he_uniform',kernel_size =(2,2),padding ='same',strides =(2,2),filters=32))\n",
        "model.add(MaxPooling2D(pool_size= (2,2),strides =(1,1),padding ='same'))\n",
        "model.add(Conv2D(kernel_size =(2,2),padding ='same',strides =(2,2),filters =64))\n",
        "model.add(MaxPooling2D(pool_size = (2,2),strides =(1,1),padding ='same'))\n",
        "model.add(Flatten())\n",
        "model.add(Dense(512,activation='relu'))\n",
        "model.add(Dense(256, activation='relu'))\n",
        "model.add(Dense(256, activation='relu'))\n",
        "model.add(Dense(128, activation='relu'))\n",
        "model.add(Dense(100, activation='softmax'))\n",
        "model.summary()\n"
      ],
      "metadata": {
        "colab": {
          "base_uri": "https://localhost:8080/"
        },
        "id": "VDHJyWglvHD0",
        "outputId": "9efebe36-c629-48ff-dc8b-d0dc429e8f5a"
      },
      "execution_count": 3,
      "outputs": [
        {
          "output_type": "stream",
          "name": "stdout",
          "text": [
            "Model: \"sequential\"\n",
            "_________________________________________________________________\n",
            " Layer (type)                Output Shape              Param #   \n",
            "=================================================================\n",
            " conv2d (Conv2D)             (None, 16, 16, 32)        416       \n",
            "                                                                 \n",
            " max_pooling2d (MaxPooling2D  (None, 16, 16, 32)       0         \n",
            " )                                                               \n",
            "                                                                 \n",
            " conv2d_1 (Conv2D)           (None, 8, 8, 64)          8256      \n",
            "                                                                 \n",
            " max_pooling2d_1 (MaxPooling  (None, 8, 8, 64)         0         \n",
            " 2D)                                                             \n",
            "                                                                 \n",
            " flatten (Flatten)           (None, 4096)              0         \n",
            "                                                                 \n",
            " dense (Dense)               (None, 512)               2097664   \n",
            "                                                                 \n",
            " dense_1 (Dense)             (None, 256)               131328    \n",
            "                                                                 \n",
            " dense_2 (Dense)             (None, 256)               65792     \n",
            "                                                                 \n",
            " dense_3 (Dense)             (None, 128)               32896     \n",
            "                                                                 \n",
            " dense_4 (Dense)             (None, 100)               12900     \n",
            "                                                                 \n",
            "=================================================================\n",
            "Total params: 2,349,252\n",
            "Trainable params: 2,349,252\n",
            "Non-trainable params: 0\n",
            "_________________________________________________________________\n"
          ]
        }
      ]
    },
    {
      "cell_type": "code",
      "source": [
        "from tensorflow import keras\n",
        "model.compile(optimizer ='Adam', loss ='categorical_crossentropy', metrics =['accuracy'])\n",
        "history = model.fit(x_train_images,y_train_labels,batch_size =64,epochs =50,verbose= 1,validation_data=(x_test_images,y_test_labels),callbacks=[EarlyStopping(monitor='val_loss',patience=10)])"
      ],
      "metadata": {
        "colab": {
          "base_uri": "https://localhost:8080/"
        },
        "id": "W79Lz4RJvteN",
        "outputId": "4f3836a5-8d15-4238-8a3d-9486db3667fd"
      },
      "execution_count": 4,
      "outputs": [
        {
          "output_type": "stream",
          "name": "stdout",
          "text": [
            "Epoch 1/50\n",
            "782/782 [==============================] - 16s 6ms/step - loss: 3.6709 - accuracy: 0.1420 - val_loss: 3.1503 - val_accuracy: 0.2279\n",
            "Epoch 2/50\n",
            "782/782 [==============================] - 4s 5ms/step - loss: 2.9045 - accuracy: 0.2738 - val_loss: 2.8014 - val_accuracy: 0.2972\n",
            "Epoch 3/50\n",
            "782/782 [==============================] - 4s 5ms/step - loss: 2.5141 - accuracy: 0.3492 - val_loss: 2.6324 - val_accuracy: 0.3317\n",
            "Epoch 4/50\n",
            "782/782 [==============================] - 4s 5ms/step - loss: 2.2000 - accuracy: 0.4172 - val_loss: 2.5429 - val_accuracy: 0.3640\n",
            "Epoch 5/50\n",
            "782/782 [==============================] - 4s 6ms/step - loss: 1.9096 - accuracy: 0.4785 - val_loss: 2.5388 - val_accuracy: 0.3733\n",
            "Epoch 6/50\n",
            "782/782 [==============================] - 4s 5ms/step - loss: 1.6210 - accuracy: 0.5439 - val_loss: 2.6277 - val_accuracy: 0.3759\n",
            "Epoch 7/50\n",
            "782/782 [==============================] - 5s 6ms/step - loss: 1.3544 - accuracy: 0.6084 - val_loss: 2.8043 - val_accuracy: 0.3719\n",
            "Epoch 8/50\n",
            "782/782 [==============================] - 4s 5ms/step - loss: 1.1073 - accuracy: 0.6685 - val_loss: 2.9740 - val_accuracy: 0.3755\n",
            "Epoch 9/50\n",
            "782/782 [==============================] - 4s 5ms/step - loss: 0.9032 - accuracy: 0.7246 - val_loss: 3.2793 - val_accuracy: 0.3713\n",
            "Epoch 10/50\n",
            "782/782 [==============================] - 4s 5ms/step - loss: 0.7449 - accuracy: 0.7703 - val_loss: 3.5310 - val_accuracy: 0.3702\n",
            "Epoch 11/50\n",
            "782/782 [==============================] - 4s 5ms/step - loss: 0.6285 - accuracy: 0.8035 - val_loss: 3.9864 - val_accuracy: 0.3611\n",
            "Epoch 12/50\n",
            "782/782 [==============================] - 4s 5ms/step - loss: 0.5511 - accuracy: 0.8269 - val_loss: 4.1896 - val_accuracy: 0.3611\n",
            "Epoch 13/50\n",
            "782/782 [==============================] - 4s 5ms/step - loss: 0.4879 - accuracy: 0.8471 - val_loss: 4.4888 - val_accuracy: 0.3605\n",
            "Epoch 14/50\n",
            "782/782 [==============================] - 4s 5ms/step - loss: 0.4306 - accuracy: 0.8639 - val_loss: 4.7599 - val_accuracy: 0.3595\n",
            "Epoch 15/50\n",
            "782/782 [==============================] - 4s 5ms/step - loss: 0.3910 - accuracy: 0.8747 - val_loss: 4.8284 - val_accuracy: 0.3570\n"
          ]
        }
      ]
    },
    {
      "cell_type": "code",
      "source": [
        "plt.plot(history.history['accuracy'])\n",
        "plt.xlabel('epoch')\n",
        "plt.legend(['accuracy'])\n",
        "plt.show()\n",
        "score = model.evaluate(x_test_images, y_test_labels, verbose=0)\n",
        "print('Test error: ',score[0])\n",
        "print('Test accuracy: ',score[1])"
      ],
      "metadata": {
        "colab": {
          "base_uri": "https://localhost:8080/",
          "height": 317
        },
        "id": "X2yti5xVySQ6",
        "outputId": "bd155211-fbf3-4c3b-c730-a3c51aa1d1e0"
      },
      "execution_count": 5,
      "outputs": [
        {
          "output_type": "display_data",
          "data": {
            "text/plain": [
              "<Figure size 432x288 with 1 Axes>"
            ],
            "image/png": "[encoded data removed]"
          },
          "metadata": {
            "needs_background": "light"
          }
        },
        {
          "output_type": "stream",
          "name": "stdout",
          "text": [
            "Test error:  4.828394412994385\n",
            "Test accuracy:  0.3569999933242798\n"
          ]
        }
      ]
    },
    {
      "cell_type": "code",
      "source": [
        "x_pre = x_test_images\n",
        "y_ktra = y_test_labels\n",
        "\n",
        "\n",
        "Label = ['apple', 'aquarium_fish', 'baby', 'bear', 'beaver', 'bed', 'bee', 'beetle', 'bicycle', 'bottle', 'bowl', 'boy', 'bridge', 'bus', 'butterfly', 'camel', 'can', 'castle', 'caterpillar', 'cattle', 'chair', 'chimpanzee', 'clock', 'cloud', \n",
        "         'cockroach', 'couch', 'crab', 'crocodile', 'cup', 'dinosaur', 'dolphin', 'elephant', 'flatfish', 'forest', 'fox', 'girl', 'hamster',\n",
        "'house', 'kangaroo', 'keyboard', 'lamp', 'lawn_mower', 'leopard', 'lion', 'lizard', 'lobster', 'man', 'maple_tree', \n",
        "'motorcycle', 'mountain', 'mouse', 'mushroom', 'oak_tree', 'orange', 'orchid', 'otter', 'palm_tree', 'pear', 'pickup_truck', 'pine_tree', 'plain', 'plate', 'poppy', 'porcupine', 'possum', 'rabbit', 'raccoon', 'ray', 'road', 'rocket', 'rose', 'sea', 'seal', 'shark', 'shrew', 'skunk', 'skyscraper', 'snail', 'snake', 'spider', 'squirrel', 'streetcar', 'sunflower', 'sweet_pepper', 'table', 'tank', 'telephone', 'television', 'tiger', 'tractor', 'train', 'trout', 'tulip', 'turtle', 'wardrobe', \n",
        "'whale', 'willow_tree', 'wolf', 'woman', 'worm']\n",
        "test = 2001\n",
        "plt.title(\"Dự đoán là: \" +str(Label[np.argmax(model.predict(x_pre[test].reshape(1, 32, 32, 3)))]))\n",
        "y_ktra[test]\n",
        "plt.imshow(x_pre[test], cmap=plt.get_cmap('gray'))"
      ],
      "metadata": {
        "colab": {
          "base_uri": "https://localhost:8080/",
          "height": 299
        },
        "id": "rCFSc5C1zYAE",
        "outputId": "90580b7b-34ad-4337-c7b0-c7848fdf352b"
      },
      "execution_count": 6,
      "outputs": [
        {
          "output_type": "execute_result",
          "data": {
            "text/plain": [
              "<matplotlib.image.AxesImage at 0x7f02f2b07550>"
            ]
          },
          "metadata": {},
          "execution_count": 6
        },
        {
          "output_type": "display_data",
          "data": {
            "text/plain": [
              "<Figure size 432x288 with 1 Axes>"
            ],
            "image/png": "[encoded data removed]"
          },
          "metadata": {
            "needs_background": "light"
          }
        }
      ]
    },
    {
      "cell_type": "code",
      "source": [
        "model.save('cifar100_cnn.h5')"
      ],
      "metadata": {
        "id": "csrJHSI6n60v"
      },
      "execution_count": 7,
      "outputs": []
    }
  ]
}